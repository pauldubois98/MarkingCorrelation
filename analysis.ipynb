{
 "cells": [
  {
   "cell_type": "code",
   "execution_count": 1,
   "metadata": {},
   "outputs": [],
   "source": [
    "import pandas"
   ]
  },
  {
   "cell_type": "code",
   "execution_count": 2,
   "metadata": {},
   "outputs": [
    {
     "data": {
      "text/html": [
       "<div>\n",
       "<style scoped>\n",
       "    .dataframe tbody tr th:only-of-type {\n",
       "        vertical-align: middle;\n",
       "    }\n",
       "\n",
       "    .dataframe tbody tr th {\n",
       "        vertical-align: top;\n",
       "    }\n",
       "\n",
       "    .dataframe thead th {\n",
       "        text-align: right;\n",
       "    }\n",
       "</style>\n",
       "<table border=\"1\" class=\"dataframe\">\n",
       "  <thead>\n",
       "    <tr style=\"text-align: right;\">\n",
       "      <th></th>\n",
       "      <th>Kaggle1</th>\n",
       "      <th>Kaggle2</th>\n",
       "      <th>Kaggle3</th>\n",
       "      <th>Kaggle4</th>\n",
       "      <th>Kaggle5</th>\n",
       "      <th>Projet-Teacher1</th>\n",
       "      <th>Projet-Teacher2</th>\n",
       "    </tr>\n",
       "  </thead>\n",
       "  <tbody>\n",
       "    <tr>\n",
       "      <th>0</th>\n",
       "      <td>6</td>\n",
       "      <td>5</td>\n",
       "      <td>6</td>\n",
       "      <td>6</td>\n",
       "      <td>6.0</td>\n",
       "      <td>17.5</td>\n",
       "      <td>18.0</td>\n",
       "    </tr>\n",
       "    <tr>\n",
       "      <th>1</th>\n",
       "      <td>6</td>\n",
       "      <td>4</td>\n",
       "      <td>5</td>\n",
       "      <td>6</td>\n",
       "      <td>3.0</td>\n",
       "      <td>15.0</td>\n",
       "      <td>12.5</td>\n",
       "    </tr>\n",
       "    <tr>\n",
       "      <th>2</th>\n",
       "      <td>6</td>\n",
       "      <td>6</td>\n",
       "      <td>5</td>\n",
       "      <td>3</td>\n",
       "      <td>3.0</td>\n",
       "      <td>14.0</td>\n",
       "      <td>14.5</td>\n",
       "    </tr>\n",
       "    <tr>\n",
       "      <th>3</th>\n",
       "      <td>6</td>\n",
       "      <td>6</td>\n",
       "      <td>5</td>\n",
       "      <td>3</td>\n",
       "      <td>3.0</td>\n",
       "      <td>16.5</td>\n",
       "      <td>18.5</td>\n",
       "    </tr>\n",
       "    <tr>\n",
       "      <th>4</th>\n",
       "      <td>5</td>\n",
       "      <td>5</td>\n",
       "      <td>5</td>\n",
       "      <td>6</td>\n",
       "      <td>6.0</td>\n",
       "      <td>17.5</td>\n",
       "      <td>18.0</td>\n",
       "    </tr>\n",
       "  </tbody>\n",
       "</table>\n",
       "</div>"
      ],
      "text/plain": [
       "   Kaggle1  Kaggle2  Kaggle3  Kaggle4  Kaggle5  Projet-Teacher1  \\\n",
       "0        6        5        6        6      6.0             17.5   \n",
       "1        6        4        5        6      3.0             15.0   \n",
       "2        6        6        5        3      3.0             14.0   \n",
       "3        6        6        5        3      3.0             16.5   \n",
       "4        5        5        5        6      6.0             17.5   \n",
       "\n",
       "   Projet-Teacher2  \n",
       "0             18.0  \n",
       "1             12.5  \n",
       "2             14.5  \n",
       "3             18.5  \n",
       "4             18.0  "
      ]
     },
     "execution_count": 2,
     "metadata": {},
     "output_type": "execute_result"
    }
   ],
   "source": [
    "data = pandas.read_csv(\"data.csv\")\n",
    "data.head()"
   ]
  },
  {
   "cell_type": "code",
   "execution_count": 3,
   "metadata": {},
   "outputs": [
    {
     "name": "stdout",
     "output_type": "stream",
     "text": [
      "Kaggle1: 5.333333333333333 +/- 0.5547001962252291\n",
      "Kaggle2: 4.814814814814815 +/- 1.5698367636118935\n",
      "Kaggle3: 5.37037037037037 +/- 0.49210287762341137\n",
      "Kaggle4: 4.518518518518518 +/- 1.4772732253500644\n",
      "Kaggle5: 4.203703703703703 +/- 1.8824046571997461\n",
      "Projet-Teacher1: 16.425925925925927 +/- 1.6390880655442792\n",
      "Projet-Teacher2: 16.166666666666668 +/- 2.2446517632945957\n"
     ]
    }
   ],
   "source": [
    "# calculate means and standard deviations for each column\n",
    "means = data.mean()\n",
    "stds = data.std()\n",
    "\n",
    "for i in range(len(means)):\n",
    "    print(f\"{means.index[i]}: {means[i]} +/- {stds[i]}\")"
   ]
  }
 ],
 "metadata": {
  "kernelspec": {
   "display_name": "Python 3",
   "language": "python",
   "name": "python3"
  },
  "language_info": {
   "codemirror_mode": {
    "name": "ipython",
    "version": 3
   },
   "file_extension": ".py",
   "mimetype": "text/x-python",
   "name": "python",
   "nbconvert_exporter": "python",
   "pygments_lexer": "ipython3",
   "version": "3.10.7"
  },
  "orig_nbformat": 4
 },
 "nbformat": 4,
 "nbformat_minor": 2
}
