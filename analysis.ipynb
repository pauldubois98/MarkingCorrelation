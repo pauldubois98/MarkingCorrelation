{
 "cells": [
  {
   "cell_type": "code",
   "execution_count": 1,
   "metadata": {},
   "outputs": [],
   "source": [
    "import pandas"
   ]
  },
  {
   "cell_type": "code",
   "execution_count": 2,
   "metadata": {},
   "outputs": [
    {
     "data": {
      "text/html": [
       "<div>\n",
       "<style scoped>\n",
       "    .dataframe tbody tr th:only-of-type {\n",
       "        vertical-align: middle;\n",
       "    }\n",
       "\n",
       "    .dataframe tbody tr th {\n",
       "        vertical-align: top;\n",
       "    }\n",
       "\n",
       "    .dataframe thead th {\n",
       "        text-align: right;\n",
       "    }\n",
       "</style>\n",
       "<table border=\"1\" class=\"dataframe\">\n",
       "  <thead>\n",
       "    <tr style=\"text-align: right;\">\n",
       "      <th></th>\n",
       "      <th>Kaggle1</th>\n",
       "      <th>Kaggle2</th>\n",
       "      <th>Kaggle3</th>\n",
       "      <th>Kaggle4</th>\n",
       "      <th>Kaggle5</th>\n",
       "      <th>Projet-Teacher1</th>\n",
       "      <th>Projet-Teacher2</th>\n",
       "    </tr>\n",
       "  </thead>\n",
       "  <tbody>\n",
       "    <tr>\n",
       "      <th>0</th>\n",
       "      <td>6</td>\n",
       "      <td>5</td>\n",
       "      <td>6</td>\n",
       "      <td>6</td>\n",
       "      <td>6.0</td>\n",
       "      <td>17.5</td>\n",
       "      <td>18.0</td>\n",
       "    </tr>\n",
       "    <tr>\n",
       "      <th>1</th>\n",
       "      <td>6</td>\n",
       "      <td>4</td>\n",
       "      <td>5</td>\n",
       "      <td>6</td>\n",
       "      <td>3.0</td>\n",
       "      <td>15.0</td>\n",
       "      <td>12.5</td>\n",
       "    </tr>\n",
       "    <tr>\n",
       "      <th>2</th>\n",
       "      <td>6</td>\n",
       "      <td>6</td>\n",
       "      <td>5</td>\n",
       "      <td>3</td>\n",
       "      <td>3.0</td>\n",
       "      <td>14.0</td>\n",
       "      <td>14.5</td>\n",
       "    </tr>\n",
       "    <tr>\n",
       "      <th>3</th>\n",
       "      <td>6</td>\n",
       "      <td>6</td>\n",
       "      <td>5</td>\n",
       "      <td>3</td>\n",
       "      <td>3.0</td>\n",
       "      <td>16.5</td>\n",
       "      <td>18.5</td>\n",
       "    </tr>\n",
       "    <tr>\n",
       "      <th>4</th>\n",
       "      <td>5</td>\n",
       "      <td>5</td>\n",
       "      <td>5</td>\n",
       "      <td>6</td>\n",
       "      <td>6.0</td>\n",
       "      <td>17.5</td>\n",
       "      <td>18.0</td>\n",
       "    </tr>\n",
       "  </tbody>\n",
       "</table>\n",
       "</div>"
      ],
      "text/plain": [
       "   Kaggle1  Kaggle2  Kaggle3  Kaggle4  Kaggle5  Projet-Teacher1  \\\n",
       "0        6        5        6        6      6.0             17.5   \n",
       "1        6        4        5        6      3.0             15.0   \n",
       "2        6        6        5        3      3.0             14.0   \n",
       "3        6        6        5        3      3.0             16.5   \n",
       "4        5        5        5        6      6.0             17.5   \n",
       "\n",
       "   Projet-Teacher2  \n",
       "0             18.0  \n",
       "1             12.5  \n",
       "2             14.5  \n",
       "3             18.5  \n",
       "4             18.0  "
      ]
     },
     "execution_count": 2,
     "metadata": {},
     "output_type": "execute_result"
    }
   ],
   "source": [
    "data = pandas.read_csv(\"data.csv\")\n",
    "data.head()"
   ]
  },
  {
   "cell_type": "code",
   "execution_count": 3,
   "metadata": {},
   "outputs": [
    {
     "name": "stdout",
     "output_type": "stream",
     "text": [
      "Kaggle1: 5.333333333333333 +/- 0.5547001962252291\n",
      "Kaggle2: 4.814814814814815 +/- 1.5698367636118935\n",
      "Kaggle3: 5.37037037037037 +/- 0.49210287762341137\n",
      "Kaggle4: 4.518518518518518 +/- 1.4772732253500644\n",
      "Kaggle5: 4.203703703703703 +/- 1.8824046571997461\n",
      "Projet-Teacher1: 16.425925925925927 +/- 1.6390880655442792\n",
      "Projet-Teacher2: 16.166666666666668 +/- 2.2446517632945957\n"
     ]
    }
   ],
   "source": [
    "# calculate means and standard deviations for each column\n",
    "means = data.mean()\n",
    "stds = data.std()\n",
    "\n",
    "for i in range(len(means)):\n",
    "    print(f\"{means.index[i]}: {means[i]} +/- {stds[i]}\")"
   ]
  },
  {
   "cell_type": "code",
   "execution_count": 4,
   "metadata": {},
   "outputs": [
    {
     "data": {
      "text/html": [
       "<div>\n",
       "<style scoped>\n",
       "    .dataframe tbody tr th:only-of-type {\n",
       "        vertical-align: middle;\n",
       "    }\n",
       "\n",
       "    .dataframe tbody tr th {\n",
       "        vertical-align: top;\n",
       "    }\n",
       "\n",
       "    .dataframe thead th {\n",
       "        text-align: right;\n",
       "    }\n",
       "</style>\n",
       "<table border=\"1\" class=\"dataframe\">\n",
       "  <thead>\n",
       "    <tr style=\"text-align: right;\">\n",
       "      <th></th>\n",
       "      <th>Kaggle1</th>\n",
       "      <th>Kaggle2</th>\n",
       "      <th>Kaggle3</th>\n",
       "      <th>Kaggle4</th>\n",
       "      <th>Kaggle5</th>\n",
       "      <th>Projet-Teacher1</th>\n",
       "      <th>Projet-Teacher2</th>\n",
       "    </tr>\n",
       "  </thead>\n",
       "  <tbody>\n",
       "    <tr>\n",
       "      <th>0</th>\n",
       "      <td>100.000000</td>\n",
       "      <td>83.333333</td>\n",
       "      <td>100.000000</td>\n",
       "      <td>100.0</td>\n",
       "      <td>100.0</td>\n",
       "      <td>87.5</td>\n",
       "      <td>90.0</td>\n",
       "    </tr>\n",
       "    <tr>\n",
       "      <th>1</th>\n",
       "      <td>100.000000</td>\n",
       "      <td>66.666667</td>\n",
       "      <td>83.333333</td>\n",
       "      <td>100.0</td>\n",
       "      <td>50.0</td>\n",
       "      <td>75.0</td>\n",
       "      <td>62.5</td>\n",
       "    </tr>\n",
       "    <tr>\n",
       "      <th>2</th>\n",
       "      <td>100.000000</td>\n",
       "      <td>100.000000</td>\n",
       "      <td>83.333333</td>\n",
       "      <td>50.0</td>\n",
       "      <td>50.0</td>\n",
       "      <td>70.0</td>\n",
       "      <td>72.5</td>\n",
       "    </tr>\n",
       "    <tr>\n",
       "      <th>3</th>\n",
       "      <td>100.000000</td>\n",
       "      <td>100.000000</td>\n",
       "      <td>83.333333</td>\n",
       "      <td>50.0</td>\n",
       "      <td>50.0</td>\n",
       "      <td>82.5</td>\n",
       "      <td>92.5</td>\n",
       "    </tr>\n",
       "    <tr>\n",
       "      <th>4</th>\n",
       "      <td>83.333333</td>\n",
       "      <td>83.333333</td>\n",
       "      <td>83.333333</td>\n",
       "      <td>100.0</td>\n",
       "      <td>100.0</td>\n",
       "      <td>87.5</td>\n",
       "      <td>90.0</td>\n",
       "    </tr>\n",
       "  </tbody>\n",
       "</table>\n",
       "</div>"
      ],
      "text/plain": [
       "      Kaggle1     Kaggle2     Kaggle3  Kaggle4  Kaggle5  Projet-Teacher1  \\\n",
       "0  100.000000   83.333333  100.000000    100.0    100.0             87.5   \n",
       "1  100.000000   66.666667   83.333333    100.0     50.0             75.0   \n",
       "2  100.000000  100.000000   83.333333     50.0     50.0             70.0   \n",
       "3  100.000000  100.000000   83.333333     50.0     50.0             82.5   \n",
       "4   83.333333   83.333333   83.333333    100.0    100.0             87.5   \n",
       "\n",
       "   Projet-Teacher2  \n",
       "0             90.0  \n",
       "1             62.5  \n",
       "2             72.5  \n",
       "3             92.5  \n",
       "4             90.0  "
      ]
     },
     "execution_count": 4,
     "metadata": {},
     "output_type": "execute_result"
    }
   ],
   "source": [
    "# normalize data last 2 columns to % (instead of /6 or /20)\n",
    "data.iloc[:, 0:5] = data.iloc[:, 0:5] / 6 * 100\n",
    "data.iloc[:, 5:7] = data.iloc[:, 5:7] / 20 * 100\n",
    "data.head()"
   ]
  },
  {
   "cell_type": "code",
   "execution_count": 5,
   "metadata": {},
   "outputs": [
    {
     "name": "stdout",
     "output_type": "stream",
     "text": [
      "Kaggle1: 88.88888888888889 +/- 9.245003270420483\n",
      "Kaggle2: 80.24691358024691 +/- 26.163946060198228\n",
      "Kaggle3: 89.50617283950618 +/- 8.201714627056852\n",
      "Kaggle4: 75.30864197530865 +/- 24.621220422501075\n",
      "Kaggle5: 70.06172839506172 +/- 31.373410953329103\n",
      "Projet-Teacher1: 82.12962962962963 +/- 8.195440327721395\n",
      "Projet-Teacher2: 80.83333333333333 +/- 11.22325881647298\n"
     ]
    }
   ],
   "source": [
    "# calculate means and standard deviations for each column\n",
    "means = data.mean()\n",
    "stds = data.std()\n",
    "for i in range(len(means)):\n",
    "    print(f\"{means.index[i]}: {means[i]} +/- {stds[i]}\")"
   ]
  },
  {
   "cell_type": "code",
   "execution_count": null,
   "metadata": {},
   "outputs": [],
   "source": []
  }
 ],
 "metadata": {
  "kernelspec": {
   "display_name": "Python 3",
   "language": "python",
   "name": "python3"
  },
  "language_info": {
   "codemirror_mode": {
    "name": "ipython",
    "version": 3
   },
   "file_extension": ".py",
   "mimetype": "text/x-python",
   "name": "python",
   "nbconvert_exporter": "python",
   "pygments_lexer": "ipython3",
   "version": "3.10.7"
  },
  "orig_nbformat": 4
 },
 "nbformat": 4,
 "nbformat_minor": 2
}
